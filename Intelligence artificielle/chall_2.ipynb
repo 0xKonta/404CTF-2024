{
 "cells": [
  {
   "cell_type": "code",
   "execution_count": 4,
   "id": "e8eaea66ebe827d9",
   "metadata": {
    "collapsed": false,
    "jupyter": {
     "outputs_hidden": false
    }
   },
   "outputs": [],
   "source": [
    "import numpy as np\n",
    "from fl.preprocessing import load_mnist, data_to_client\n",
    "from fl.model import NN\n",
    "from fl.utils import plot_train_and_test, weights_to_json\n",
    "from fl.federated_learning import federated"
   ]
  },
  {
   "cell_type": "markdown",
   "id": "4c73d758496df2d5",
   "metadata": {
    "collapsed": false,
    "jupyter": {
     "outputs_hidden": false
    }
   },
   "source": [
    "# Challenge 2 : Du poison [2/2]\n",
    "\n",
    "![du_poison_2.jpg](https://i.imgflip.com/8nfix9.jpg)\n",
    "\n",
    "Cette fois, une défense a été mise en place. Il s'agit d'éviter qu'un client ait trop d'influence en forçant une variation maximale pour les poids. Mais *est-ce suffisant ?* "
   ]
  },
  {
   "cell_type": "markdown",
   "id": "1cf474a928ebb616",
   "metadata": {
    "collapsed": false,
    "jupyter": {
     "outputs_hidden": false
    }
   },
   "source": [
    "## Récupération du drapeau \n",
    "\n",
    "Comme pour le premier challenge, il faut envoyer ses poids à l'API. "
   ]
  },
  {
   "cell_type": "code",
   "execution_count": 5,
   "id": "e52f4e1d-6204-4313-ad16-647508049293",
   "metadata": {},
   "outputs": [],
   "source": [
    "epochs = 5\n",
    "epochs_fl = 1\n",
    "nb_clients = 5\n",
    "\n",
    "x_train, y_train, x_test, y_test = load_mnist()\n",
    "x_clients, y_clients = data_to_client(x_train, y_train, nb_clients=nb_clients)"
   ]
  },
  {
   "cell_type": "code",
   "execution_count": 25,
   "id": "d67c8b3d63b849b0",
   "metadata": {
    "collapsed": false,
    "jupyter": {
     "outputs_hidden": false
    }
   },
   "outputs": [],
   "source": [
    "\n",
    "class EmpoisonneurNN(NN):\n",
    "    def __init__(self, **kwargs):\n",
    "        super(EmpoisonneurNN, self).__init__(**kwargs)\n",
    "\n",
    "    def get_weights(self):\n",
    "        # On récupère les poids normaux du modèle\n",
    "        original_weights = super(EmpoisonneurNN, self).get_weights()\n",
    "\n",
    "        # Empoisonnement ciblé et subtil\n",
    "        poisoned_weights = []\n",
    "        for weight in original_weights:\n",
    "            # Augmenter subtilement les poids en ajoutant une petite valeur\n",
    "            increment = np.random.uniform(0.04, 0.1, weight.shape)\n",
    "            poisoned_weight = weight + increment\n",
    "\n",
    "            poisoned_weights.append(poisoned_weight)\n",
    "\n",
    "        return poisoned_weights\n",
    "\n",
    "    def set_weights(self, weights):\n",
    "        # Appliquer une logique d'empoisonnement identique ici\n",
    "        poisoned_weights = []\n",
    "        for weight in weights:\n",
    "            increment = np.random.uniform(0.01, 0.1, weight.shape)\n",
    "            poisoned_weight = weight + increment\n",
    "            poisoned_weights.append(poisoned_weight)\n",
    "\n",
    "        super(EmpoisonneurNN, self).set_weights(poisoned_weights)\n",
    "\n",
    "# Utilisation de l'EmpoisonneurNN\n",
    "model = EmpoisonneurNN()\n",
    "\n"
   ]
  },
  {
   "cell_type": "code",
   "execution_count": null,
   "id": "7dd57f83-745a-48ac-aebe-63aaf8d81297",
   "metadata": {},
   "outputs": [],
   "source": [
    "federated_learning = federated(\n",
    "    NN(),\n",
    "    x_clients, \n",
    "    y_clients, \n",
    "    x_test, \n",
    "    y_test, \n",
    "    fl_iterations=epochs,\n",
    "    epochs_fl=epochs_fl\n",
    ")"
   ]
  },
  {
   "cell_type": "code",
   "execution_count": 8,
   "id": "939d028dabb70e23",
   "metadata": {
    "collapsed": false,
    "jupyter": {
     "outputs_hidden": false
    }
   },
   "outputs": [
    {
     "data": {
      "text/plain": [
       "{'message': 'Statut : en pleine forme !'}"
      ]
     },
     "execution_count": 8,
     "metadata": {},
     "output_type": "execute_result"
    }
   ],
   "source": [
    "import requests as rq\n",
    "\n",
    "URL = \"https://du-poison.challenges.404ctf.fr\"\n",
    "rq.get(URL + \"/healthcheck\").json()"
   ]
  },
  {
   "cell_type": "code",
   "execution_count": 14,
   "id": "a0d58b8a-6278-4835-b961-f09887521b71",
   "metadata": {},
   "outputs": [
    {
     "data": {
      "text/plain": [
       "{'message': \"Raté ! Le score de l'apprentissage fédéré est de 0.942. Il faut l'empoisonner pour qu'il passe en dessous de 0.5\"}"
      ]
     },
     "execution_count": 14,
     "metadata": {},
     "output_type": "execute_result"
    }
   ],
   "source": [
    "d = weights_to_json(model.get_weights())\n",
    "rq.post(URL + \"/challenges/1\", json=d).json()"
   ]
  },
  {
   "cell_type": "code",
   "execution_count": 26,
   "id": "36f41e01e352a919",
   "metadata": {
    "collapsed": false,
    "jupyter": {
     "outputs_hidden": false
    }
   },
   "outputs": [
    {
     "data": {
      "text/plain": [
       "{'message': 'Bravo ! Voici le drapeau : 404CTF{p3rF0rm4nc3_Ou_s3cUR1T3_FaUt_iL_Ch01s1r?}'}"
      ]
     },
     "execution_count": 26,
     "metadata": {},
     "output_type": "execute_result"
    }
   ],
   "source": [
    "d = weights_to_json(model.get_weights())\n",
    "rq.post(URL + \"/challenges/2\", json=d).json()"
   ]
  },
  {
   "cell_type": "code",
   "execution_count": null,
   "id": "6da74625-78b7-4918-b23e-1a2e02e7b29f",
   "metadata": {},
   "outputs": [],
   "source": []
  },
  {
   "cell_type": "code",
   "execution_count": null,
   "id": "49068d7b-e49f-4357-a32c-74b57a37eb81",
   "metadata": {},
   "outputs": [],
   "source": []
  }
 ],
 "metadata": {
  "kernelspec": {
   "display_name": "Python 3 (ipykernel)",
   "language": "python",
   "name": "python3"
  },
  "language_info": {
   "codemirror_mode": {
    "name": "ipython",
    "version": 3
   },
   "file_extension": ".py",
   "mimetype": "text/x-python",
   "name": "python",
   "nbconvert_exporter": "python",
   "pygments_lexer": "ipython3",
   "version": "3.11.7"
  }
 },
 "nbformat": 4,
 "nbformat_minor": 5
}
