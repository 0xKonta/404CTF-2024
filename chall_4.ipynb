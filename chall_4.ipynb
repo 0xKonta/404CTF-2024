{
 "cells": [
  {
   "cell_type": "code",
   "execution_count": 1,
   "id": "initial_id",
   "metadata": {},
   "outputs": [
    {
     "name": "stdout",
     "output_type": "stream",
     "text": [
      "WARNING:tensorflow:From C:\\Users\\brohe\\anaconda3\\Lib\\site-packages\\keras\\src\\losses.py:2976: The name tf.losses.sparse_softmax_cross_entropy is deprecated. Please use tf.compat.v1.losses.sparse_softmax_cross_entropy instead.\n",
      "\n",
      "WARNING:tensorflow:From C:\\Users\\brohe\\anaconda3\\Lib\\site-packages\\keras\\src\\backend.py:1398: The name tf.executing_eagerly_outside_functions is deprecated. Please use tf.compat.v1.executing_eagerly_outside_functions instead.\n",
      "\n"
     ]
    }
   ],
   "source": [
    "from fl.preprocessing import preprocess_force_magnitude\n",
    "import tensorflow as tf \n",
    "from tensorflow.keras.models import load_model\n",
    "\n",
    "model = load_model(\"../models/force_prediction_model.h5\")"
   ]
  },
  {
   "cell_type": "markdown",
   "id": "3bbcf256c2d625f1",
   "metadata": {
    "collapsed": false,
    "jupyter": {
     "outputs_hidden": false
    }
   },
   "source": [
    "## ***>> Assurez-vous d'avoir tensorflow version 2.15***\n",
    "`pip install tensorflow==2.15`\n",
    "\n",
    "# Challenge 4 : Du poison [3/2]\n",
    "\n",
    "modèle : un réseau de neurone capable de prédire la puissance (vitesse) d'un voilier, en se basant sur l'accélération en x, y et z. \n",
    "\n",
    "Une étape de préparation des données est effectuée pour calculer l'amplitude (la norme au carré) et pour enlever les données inutiles. Je vous laisse les deux versions à titre indicatif, cela ne devrait pas être important pour résoudre le challenge. \n",
    "\n",
    "C'est un modèle de **régression**, c'est-à-dire qu'il ne finit pas sur une sigmoïde, mais sur, rien ! Toutes les valeurs sont possibles en sortie. Même si en pratique, je l'utilise avec une notion de classe, soit 25, soit 50. Si la sortie du modèle est $x$, la classe prédite est :\n",
    "- 25 si $|25 - x|$ < $|50 - x|$\n",
    "- 50 sinon\n",
    "\n",
    "**Le but du challenge est de modifier deux poids, pour que le modèle prédise toutes les classes 25 en 50 et inversement.** \n",
    "\n",
    "Vous avez pour cela quatre exemples de données dans `data/example_force_...`. Bonne chance !"
   ]
  },
  {
   "cell_type": "code",
   "execution_count": 2,
   "id": "b800a7f11c461d8d",
   "metadata": {
    "collapsed": false,
    "jupyter": {
     "outputs_hidden": false
    }
   },
   "outputs": [
    {
     "name": "stdout",
     "output_type": "stream",
     "text": [
      "1/1 [==============================] - 0s 172ms/step\n",
      "1/1 [==============================] - 0s 18ms/step\n",
      "1/1 [==============================] - 0s 17ms/step\n",
      "1/1 [==============================] - 0s 18ms/step\n"
     ]
    },
    {
     "data": {
      "text/plain": [
       "{'25a': 24.904825, '25b': 25.188282, '50a': 55.79935, '50b': 46.48767}"
      ]
     },
     "execution_count": 2,
     "metadata": {},
     "output_type": "execute_result"
    }
   ],
   "source": [
    "from fl.preprocessing import preprocess_force_magnitude\n",
    "import tensorflow as tf \n",
    "from tensorflow.keras.models import load_model\n",
    "\n",
    "model = load_model(\"../models/force_prediction_model.h5\")\n",
    "\n",
    "examples = [\"25a\", \"25b\", \"50a\", \"50b\"]\n",
    "values = {example: tf.convert_to_tensor(preprocess_force_magnitude(f\"../data/example_force_{example}.csv\").to_numpy()[:, 0].reshape(1, 50)) for example in examples}\n",
    "predictions = {example: model.predict(values[example])[0][0] for example in examples}\n",
    "predictions"
   ]
  },
  {
   "cell_type": "code",
   "execution_count": 268,
   "id": "e655c64775808833",
   "metadata": {
    "collapsed": false,
    "jupyter": {
     "outputs_hidden": false
    }
   },
   "outputs": [
    {
     "name": "stdout",
     "output_type": "stream",
     "text": [
      "Prédictions du modèle initial:\n",
      "1/1 [==============================] - 0s 58ms/step\n",
      "[[25.]\n",
      " [50.]\n",
      " [25.]\n",
      " [50.]]\n",
      "Classes prédites:\n",
      "[25 50 25 50]\n",
      "Prédictions après modification des poids:\n",
      "1/1 [==============================] - 0s 18ms/step\n",
      "[[100.]\n",
      " [100.]\n",
      " [100.]\n",
      " [100.]]\n",
      "Seuil de décision optimal : 99.61\n",
      "Classes prédites inversées:\n",
      "[25 25 25 25]\n",
      "Bien joué ! Voici le drapeau : 404CTF{d3_p3t1ts_Ch4ng3m3ntS_tR3s_cHA0t1qU3s}\n"
     ]
    }
   ],
   "source": [
    "import numpy as np\n",
    "import tensorflow as tf\n",
    "from tensorflow.keras.models import Sequential\n",
    "from tensorflow.keras.layers import Dense\n",
    "from tensorflow.keras.callbacks import EarlyStopping\n",
    "import requests\n",
    "import json\n",
    "\n",
    "# Données d'accélération (features)\n",
    "X_train = np.array([[0.5, 0.2, 0.1], [0.7, 0.3, 0.2], [0.6, 0.1, 0.3], [0.8, 0.4, 0.2]])  \n",
    "\n",
    "# Puissances cibles (labels) \n",
    "y_train = np.array([25, 50, 25, 50])\n",
    "\n",
    "# Normalisation des données d'entrée entre -1 et 1\n",
    "X_train_norm = (X_train - 0.5) * 2\n",
    "\n",
    "# Création du modèle\n",
    "model = Sequential()\n",
    "model.add(Dense(128, input_dim=3, activation='relu', kernel_regularizer=tf.keras.regularizers.l2(0.01)))\n",
    "model.add(Dense(128, activation='relu', kernel_regularizer=tf.keras.regularizers.l2(0.01))) \n",
    "model.add(Dense(64, activation='relu', kernel_regularizer=tf.keras.regularizers.l2(0.01)))\n",
    "model.add(Dense(1))\n",
    "\n",
    "model.compile(loss='mse', optimizer=tf.keras.optimizers.Adam(learning_rate=0.001))\n",
    "\n",
    "# Définition d'un callback pour arrêter l'entraînement si la loss ne s'améliore plus\n",
    "early_stop = EarlyStopping(monitor='loss', patience=200)\n",
    "\n",
    "# Entraînement du modèle avec plus d'epochs et le callback\n",
    "model.fit(X_train_norm, y_train, epochs=20000, verbose=0, callbacks=[early_stop])\n",
    "\n",
    "# Prédiction avec le modèle entraîné\n",
    "print(\"Prédictions du modèle initial:\")\n",
    "predictions = model.predict(X_train_norm)\n",
    "print(np.round(predictions))\n",
    "\n",
    "print(\"Classes prédites:\")\n",
    "print(np.where(abs(predictions - 25) < abs(predictions - 50), 25, 50).flatten())\n",
    "\n",
    "# Récupération des poids du modèle entraîné\n",
    "weights = model.get_weights()\n",
    "\n",
    "# Modification des poids pour inverser les prédictions 25 <-> 50\n",
    "weights[-1] *= -2  # Inversion et amplification des poids de la couche de sortie\n",
    "weights[-1][0] += 100  # Ajout d'une constante de 100 au biais de la couche de sortie\n",
    "\n",
    "# Modification des poids des couches cachées pour amplifier l'effet d'inversion\n",
    "weights[-2] *= -3  # Inversion et forte amplification des poids de la dernière couche cachée\n",
    "weights[-4] *= -2.5   # Inversion et amplification des poids de l'avant-dernière couche cachée  \n",
    "weights[-6] *= 2  # Amplification des poids de la première couche cachée (sans inversion)\n",
    "\n",
    "model.set_weights(weights)  # Mise à jour des poids du modèle\n",
    "\n",
    "# Prédiction avec le modèle modifié \n",
    "print(\"Prédictions après modification des poids:\")\n",
    "predictions = model.predict(X_train_norm)\n",
    "print(np.round(predictions))\n",
    "\n",
    "# Calcul du seuil optimal de décision sur les données d'entraînement\n",
    "threshold = (predictions[np.where(y_train == 25)].mean() + predictions[np.where(y_train == 50)].mean()) / 2\n",
    "print(f\"Seuil de décision optimal : {threshold:.2f}\")\n",
    "\n",
    "print(\"Classes prédites inversées:\")\n",
    "print(np.where(predictions < threshold, 50, 25).flatten())\n",
    "\n",
    "# Préparation des données pour la requête\n",
    "data = {\n",
    "    \"position_1\": [-1, 0],   # Indice du poids de biais de la couche de sortie\n",
    "    \"value_1\": float(weights[-1][0]),  # Nouvelle valeur du poids de biais\n",
    "    \"position_2\": [-2, 0, 0],  # Indices du premier poids de la dernière couche cachée\n",
    "    \"value_2\": float(weights[-2][0][0])   # Nouvelle valeur du poids  \n",
    "}\n",
    "\n",
    "# Conversion des valeurs flottantes en notation scientifique si nécessaire\n",
    "for key in data:\n",
    "    if isinstance(data[key], float) and (data[key] > 1e15 or data[key] < -1e15 or np.isnan(data[key])):\n",
    "        data[key] = format(data[key], '.17g')\n",
    "\n",
    "URL = \"https://du-poison.challenges.404ctf.fr\"\n",
    "print(requests.post(URL + \"/challenges/4\", json=data).json()[\"message\"])\n"
   ]
  },
  {
   "cell_type": "markdown",
   "id": "127469d4cc208509",
   "metadata": {
    "collapsed": false,
    "jupyter": {
     "outputs_hidden": false
    }
   },
   "source": [
    "## Récupération du drapeau"
   ]
  },
  {
   "cell_type": "code",
   "execution_count": 4,
   "id": "4018d012b936844",
   "metadata": {
    "collapsed": false,
    "jupyter": {
     "outputs_hidden": false
    }
   },
   "outputs": [
    {
     "data": {
      "text/plain": [
       "{'message': 'Statut : en pleine forme !'}"
      ]
     },
     "execution_count": 4,
     "metadata": {},
     "output_type": "execute_result"
    }
   ],
   "source": [
    "import requests as rq\n",
    "\n",
    "URL = \"https://du-poison.challenges.404ctf.fr\"\n",
    "rq.get(URL + \"/healthcheck\").json()"
   ]
  },
  {
   "cell_type": "code",
   "execution_count": 73,
   "id": "d1619320f3e4a552",
   "metadata": {
    "collapsed": false,
    "jupyter": {
     "outputs_hidden": false
    }
   },
   "outputs": [
    {
     "data": {
      "text/plain": [
       "'Raté ! Le modèle a obtenu une précision sur les classes inversée de 0.0, il faut au moins 0.7'"
      ]
     },
     "execution_count": 73,
     "metadata": {},
     "output_type": "execute_result"
    }
   ],
   "source": [
    "data = {\n",
    "  \"position_1\": [\n",
    "    0,\n",
    "    0,\n",
    "    0\n",
    "  ],\n",
    "  \"value_1\": 0.0,\n",
    "  \"position_2\": [\n",
    "    4,\n",
    "    0\n",
    "  ],\n",
    "  \"value_2\": 0\n",
    "}\n",
    "rq.post(URL + \"/challenges/4\", json=data).json()[\"message\"]\n"
   ]
  },
  {
   "cell_type": "code",
   "execution_count": null,
   "id": "0943aac2-561a-4ab1-81f6-ad377ef41730",
   "metadata": {},
   "outputs": [],
   "source": []
  },
  {
   "cell_type": "code",
   "execution_count": null,
   "id": "3c77dc74-0bda-4284-ac30-bdc0a4050087",
   "metadata": {},
   "outputs": [],
   "source": []
  }
 ],
 "metadata": {
  "kernelspec": {
   "display_name": "Python 3 (ipykernel)",
   "language": "python",
   "name": "python3"
  },
  "language_info": {
   "codemirror_mode": {
    "name": "ipython",
    "version": 3
   },
   "file_extension": ".py",
   "mimetype": "text/x-python",
   "name": "python",
   "nbconvert_exporter": "python",
   "pygments_lexer": "ipython3",
   "version": "3.11.7"
  }
 },
 "nbformat": 4,
 "nbformat_minor": 5
}
